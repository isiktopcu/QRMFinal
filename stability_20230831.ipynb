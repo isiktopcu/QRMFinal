{
  "cells": [
    {
      "cell_type": "markdown",
      "id": "d5426be7",
      "metadata": {
        "id": "d5426be7"
      },
      "source": [
        "## How do economic sanctions effect political stability in target countries?"
      ]
    },
    {
      "cell_type": "markdown",
      "source": [
        "This study investigates the impact of economic sanctions on the political stability of target countries, a subject of enduring debate and policy relevance.\n",
        "Utilizing cross sectional data, we examine how the severity of sanctions correlates with political stability. Our findings reveal a negative relationship\n",
        "between the severity of sanctions and political stability, creating evidence\n",
        "that economic sanctions have in fact a negative impact on the political stability of target countries. This study argues for a more cautious and nuanced\n",
        "application of economic sanctions, given their potential to destabilize target\n",
        "countries politically."
      ],
      "metadata": {
        "id": "17sIl83NrbJF"
      },
      "id": "17sIl83NrbJF"
    },
    {
      "cell_type": "markdown",
      "source": [
        "## Mounting the Drive"
      ],
      "metadata": {
        "id": "IjUoQqLPc5Gn"
      },
      "id": "IjUoQqLPc5Gn"
    },
    {
      "cell_type": "code",
      "source": [
        "from google.colab import drive\n",
        "drive.mount('/content/drive')"
      ],
      "metadata": {
        "colab": {
          "base_uri": "https://localhost:8080/"
        },
        "id": "Q207K9XpNsJy",
        "outputId": "94fa33c3-fff7-40b8-a2b0-9923bcfc674d"
      },
      "id": "Q207K9XpNsJy",
      "execution_count": 1,
      "outputs": [
        {
          "output_type": "stream",
          "name": "stdout",
          "text": [
            "Mounted at /content/drive\n"
          ]
        }
      ]
    },
    {
      "cell_type": "markdown",
      "source": [
        "## Importing the Libraries"
      ],
      "metadata": {
        "id": "TetEWx29cuuJ"
      },
      "id": "TetEWx29cuuJ"
    },
    {
      "cell_type": "code",
      "execution_count": 2,
      "id": "bb65c351",
      "metadata": {
        "id": "bb65c351"
      },
      "outputs": [],
      "source": [
        "import pandas as pd\n",
        "import numpy as np"
      ]
    },
    {
      "cell_type": "markdown",
      "source": [
        "# Explatory Data Analysis"
      ],
      "metadata": {
        "id": "HoYx93X99r1z"
      },
      "id": "HoYx93X99r1z"
    },
    {
      "cell_type": "markdown",
      "source": [
        "### Political Stability Data"
      ],
      "metadata": {
        "id": "9PfmyI5xckGL"
      },
      "id": "9PfmyI5xckGL"
    },
    {
      "cell_type": "code",
      "execution_count": 3,
      "id": "8a7ee223",
      "metadata": {
        "id": "8a7ee223"
      },
      "outputs": [],
      "source": [
        "stability = pd.read_csv(\"/content/drive/MyDrive/political_stability_data (1).csv\",na_values=\"NaN\")"
      ]
    },
    {
      "cell_type": "code",
      "execution_count": 4,
      "id": "0cb82c0a",
      "metadata": {
        "colab": {
          "base_uri": "https://localhost:8080/",
          "height": 424
        },
        "id": "0cb82c0a",
        "outputId": "86735b1c-f99f-4bd6-bf0b-7b2687e052a1"
      },
      "outputs": [
        {
          "output_type": "execute_result",
          "data": {
            "text/plain": [
              "            Country Code      1996      1998      2000      2002      2003  \\\n",
              "2       Afghanistan  AFG -2.417310 -2.427355 -2.438969 -2.035034 -2.198372   \n",
              "5           Albania  ALB -0.336625 -0.544004 -0.539990 -0.297719 -0.309780   \n",
              "56          Algeria  DZA -1.783311 -1.878905 -1.432577 -1.634565 -1.754409   \n",
              "10   American Samoa  ASM       NaN       NaN       NaN       NaN       NaN   \n",
              "1           Andorra  AND  1.169522  1.182875  1.166981  1.282767  1.465131   \n",
              "..              ...  ...       ...       ...       ...       ...       ...   \n",
              "204         Vietnam  VNM  0.525696  0.319005  0.408774  0.353681  0.126424   \n",
              "208           Yemen  YEM -1.311538 -1.192847 -1.145441 -1.306880 -1.481762   \n",
              "212          Zambia  ZMB -0.159949  0.218868  0.035720 -0.274405  0.218380   \n",
              "213        Zimbabwe  ZWE -0.466122 -0.740443 -1.318818 -1.515870 -1.087581   \n",
              "117             NaN  XKX       NaN       NaN       NaN       NaN       NaN   \n",
              "\n",
              "         2004      2005      2006  ...      2013      2014      2015  \\\n",
              "2   -2.295682 -2.067510 -2.219135  ...  0.245741  0.208895  0.215604   \n",
              "5   -0.427260 -0.505048 -0.508157  ...  0.228020  0.196386  0.202983   \n",
              "56  -1.359188 -0.913666 -1.126413  ...  0.231508  0.200113  0.206815   \n",
              "10   0.736926  0.746284  0.703988  ...  0.393689  0.291474  0.310120   \n",
              "1    1.402106  1.384927  1.349654  ...  0.347427  0.291474  0.280071   \n",
              "..        ...       ...       ...  ...       ...       ...       ...   \n",
              "204  0.150154  0.484038  0.405120  ...  0.228020  0.196386  0.202983   \n",
              "208 -1.551187 -1.436673 -1.345312  ...  0.240286  0.204697  0.215748   \n",
              "212  0.190814  0.108463  0.363792  ...  0.228020  0.196386  0.202983   \n",
              "213 -1.204704 -1.267644 -0.931996  ...  0.228020  0.196386  0.202983   \n",
              "117       NaN       NaN       NaN  ...  0.330618  0.218983  0.226195   \n",
              "\n",
              "         2016      2017      2018      2019      2020      2021  \\\n",
              "2    0.219708  0.228036  0.227102  0.241348  0.245315  0.247812   \n",
              "5    0.207796  0.215950  0.215237  0.233015  0.236120  0.239416   \n",
              "56   0.212601  0.221278  0.220283  0.238515  0.241320  0.239416   \n",
              "10   0.320922  0.352204  0.309305  0.317560  0.342520  0.328610   \n",
              "1    0.290933  0.315331  0.296579  0.288032  0.285639  0.288676   \n",
              "..        ...       ...       ...       ...       ...       ...   \n",
              "204  0.207796  0.210178  0.210938  0.214055  0.219328  0.215016   \n",
              "208  0.216679  0.225871  0.224908  0.244457  0.241320  0.244692   \n",
              "212  0.211598  0.220213  0.219545  0.238545  0.236120  0.239416   \n",
              "213  0.207796  0.215950  0.215237  0.233015  0.236120  0.239416   \n",
              "117  0.230289  0.239812  0.238550  0.254132  0.251162  0.247812   \n",
              "\n",
              "     AverageStabilityIndex  \n",
              "2                -0.947630  \n",
              "5                -0.032301  \n",
              "56               -0.514745  \n",
              "10                0.503801  \n",
              "1                 0.768232  \n",
              "..                     ...  \n",
              "204               0.263282  \n",
              "208              -0.569510  \n",
              "212               0.210672  \n",
              "213              -0.378845  \n",
              "117               0.361380  \n",
              "\n",
              "[214 rows x 27 columns]"
            ],
            "text/html": [
              "\n",
              "  <div id=\"df-3b00255e-49da-4adb-9b77-ffcba1604b75\" class=\"colab-df-container\">\n",
              "    <div>\n",
              "<style scoped>\n",
              "    .dataframe tbody tr th:only-of-type {\n",
              "        vertical-align: middle;\n",
              "    }\n",
              "\n",
              "    .dataframe tbody tr th {\n",
              "        vertical-align: top;\n",
              "    }\n",
              "\n",
              "    .dataframe thead th {\n",
              "        text-align: right;\n",
              "    }\n",
              "</style>\n",
              "<table border=\"1\" class=\"dataframe\">\n",
              "  <thead>\n",
              "    <tr style=\"text-align: right;\">\n",
              "      <th></th>\n",
              "      <th>Country</th>\n",
              "      <th>Code</th>\n",
              "      <th>1996</th>\n",
              "      <th>1998</th>\n",
              "      <th>2000</th>\n",
              "      <th>2002</th>\n",
              "      <th>2003</th>\n",
              "      <th>2004</th>\n",
              "      <th>2005</th>\n",
              "      <th>2006</th>\n",
              "      <th>...</th>\n",
              "      <th>2013</th>\n",
              "      <th>2014</th>\n",
              "      <th>2015</th>\n",
              "      <th>2016</th>\n",
              "      <th>2017</th>\n",
              "      <th>2018</th>\n",
              "      <th>2019</th>\n",
              "      <th>2020</th>\n",
              "      <th>2021</th>\n",
              "      <th>AverageStabilityIndex</th>\n",
              "    </tr>\n",
              "  </thead>\n",
              "  <tbody>\n",
              "    <tr>\n",
              "      <th>2</th>\n",
              "      <td>Afghanistan</td>\n",
              "      <td>AFG</td>\n",
              "      <td>-2.417310</td>\n",
              "      <td>-2.427355</td>\n",
              "      <td>-2.438969</td>\n",
              "      <td>-2.035034</td>\n",
              "      <td>-2.198372</td>\n",
              "      <td>-2.295682</td>\n",
              "      <td>-2.067510</td>\n",
              "      <td>-2.219135</td>\n",
              "      <td>...</td>\n",
              "      <td>0.245741</td>\n",
              "      <td>0.208895</td>\n",
              "      <td>0.215604</td>\n",
              "      <td>0.219708</td>\n",
              "      <td>0.228036</td>\n",
              "      <td>0.227102</td>\n",
              "      <td>0.241348</td>\n",
              "      <td>0.245315</td>\n",
              "      <td>0.247812</td>\n",
              "      <td>-0.947630</td>\n",
              "    </tr>\n",
              "    <tr>\n",
              "      <th>5</th>\n",
              "      <td>Albania</td>\n",
              "      <td>ALB</td>\n",
              "      <td>-0.336625</td>\n",
              "      <td>-0.544004</td>\n",
              "      <td>-0.539990</td>\n",
              "      <td>-0.297719</td>\n",
              "      <td>-0.309780</td>\n",
              "      <td>-0.427260</td>\n",
              "      <td>-0.505048</td>\n",
              "      <td>-0.508157</td>\n",
              "      <td>...</td>\n",
              "      <td>0.228020</td>\n",
              "      <td>0.196386</td>\n",
              "      <td>0.202983</td>\n",
              "      <td>0.207796</td>\n",
              "      <td>0.215950</td>\n",
              "      <td>0.215237</td>\n",
              "      <td>0.233015</td>\n",
              "      <td>0.236120</td>\n",
              "      <td>0.239416</td>\n",
              "      <td>-0.032301</td>\n",
              "    </tr>\n",
              "    <tr>\n",
              "      <th>56</th>\n",
              "      <td>Algeria</td>\n",
              "      <td>DZA</td>\n",
              "      <td>-1.783311</td>\n",
              "      <td>-1.878905</td>\n",
              "      <td>-1.432577</td>\n",
              "      <td>-1.634565</td>\n",
              "      <td>-1.754409</td>\n",
              "      <td>-1.359188</td>\n",
              "      <td>-0.913666</td>\n",
              "      <td>-1.126413</td>\n",
              "      <td>...</td>\n",
              "      <td>0.231508</td>\n",
              "      <td>0.200113</td>\n",
              "      <td>0.206815</td>\n",
              "      <td>0.212601</td>\n",
              "      <td>0.221278</td>\n",
              "      <td>0.220283</td>\n",
              "      <td>0.238515</td>\n",
              "      <td>0.241320</td>\n",
              "      <td>0.239416</td>\n",
              "      <td>-0.514745</td>\n",
              "    </tr>\n",
              "    <tr>\n",
              "      <th>10</th>\n",
              "      <td>American Samoa</td>\n",
              "      <td>ASM</td>\n",
              "      <td>NaN</td>\n",
              "      <td>NaN</td>\n",
              "      <td>NaN</td>\n",
              "      <td>NaN</td>\n",
              "      <td>NaN</td>\n",
              "      <td>0.736926</td>\n",
              "      <td>0.746284</td>\n",
              "      <td>0.703988</td>\n",
              "      <td>...</td>\n",
              "      <td>0.393689</td>\n",
              "      <td>0.291474</td>\n",
              "      <td>0.310120</td>\n",
              "      <td>0.320922</td>\n",
              "      <td>0.352204</td>\n",
              "      <td>0.309305</td>\n",
              "      <td>0.317560</td>\n",
              "      <td>0.342520</td>\n",
              "      <td>0.328610</td>\n",
              "      <td>0.503801</td>\n",
              "    </tr>\n",
              "    <tr>\n",
              "      <th>1</th>\n",
              "      <td>Andorra</td>\n",
              "      <td>AND</td>\n",
              "      <td>1.169522</td>\n",
              "      <td>1.182875</td>\n",
              "      <td>1.166981</td>\n",
              "      <td>1.282767</td>\n",
              "      <td>1.465131</td>\n",
              "      <td>1.402106</td>\n",
              "      <td>1.384927</td>\n",
              "      <td>1.349654</td>\n",
              "      <td>...</td>\n",
              "      <td>0.347427</td>\n",
              "      <td>0.291474</td>\n",
              "      <td>0.280071</td>\n",
              "      <td>0.290933</td>\n",
              "      <td>0.315331</td>\n",
              "      <td>0.296579</td>\n",
              "      <td>0.288032</td>\n",
              "      <td>0.285639</td>\n",
              "      <td>0.288676</td>\n",
              "      <td>0.768232</td>\n",
              "    </tr>\n",
              "    <tr>\n",
              "      <th>...</th>\n",
              "      <td>...</td>\n",
              "      <td>...</td>\n",
              "      <td>...</td>\n",
              "      <td>...</td>\n",
              "      <td>...</td>\n",
              "      <td>...</td>\n",
              "      <td>...</td>\n",
              "      <td>...</td>\n",
              "      <td>...</td>\n",
              "      <td>...</td>\n",
              "      <td>...</td>\n",
              "      <td>...</td>\n",
              "      <td>...</td>\n",
              "      <td>...</td>\n",
              "      <td>...</td>\n",
              "      <td>...</td>\n",
              "      <td>...</td>\n",
              "      <td>...</td>\n",
              "      <td>...</td>\n",
              "      <td>...</td>\n",
              "      <td>...</td>\n",
              "    </tr>\n",
              "    <tr>\n",
              "      <th>204</th>\n",
              "      <td>Vietnam</td>\n",
              "      <td>VNM</td>\n",
              "      <td>0.525696</td>\n",
              "      <td>0.319005</td>\n",
              "      <td>0.408774</td>\n",
              "      <td>0.353681</td>\n",
              "      <td>0.126424</td>\n",
              "      <td>0.150154</td>\n",
              "      <td>0.484038</td>\n",
              "      <td>0.405120</td>\n",
              "      <td>...</td>\n",
              "      <td>0.228020</td>\n",
              "      <td>0.196386</td>\n",
              "      <td>0.202983</td>\n",
              "      <td>0.207796</td>\n",
              "      <td>0.210178</td>\n",
              "      <td>0.210938</td>\n",
              "      <td>0.214055</td>\n",
              "      <td>0.219328</td>\n",
              "      <td>0.215016</td>\n",
              "      <td>0.263282</td>\n",
              "    </tr>\n",
              "    <tr>\n",
              "      <th>208</th>\n",
              "      <td>Yemen</td>\n",
              "      <td>YEM</td>\n",
              "      <td>-1.311538</td>\n",
              "      <td>-1.192847</td>\n",
              "      <td>-1.145441</td>\n",
              "      <td>-1.306880</td>\n",
              "      <td>-1.481762</td>\n",
              "      <td>-1.551187</td>\n",
              "      <td>-1.436673</td>\n",
              "      <td>-1.345312</td>\n",
              "      <td>...</td>\n",
              "      <td>0.240286</td>\n",
              "      <td>0.204697</td>\n",
              "      <td>0.215748</td>\n",
              "      <td>0.216679</td>\n",
              "      <td>0.225871</td>\n",
              "      <td>0.224908</td>\n",
              "      <td>0.244457</td>\n",
              "      <td>0.241320</td>\n",
              "      <td>0.244692</td>\n",
              "      <td>-0.569510</td>\n",
              "    </tr>\n",
              "    <tr>\n",
              "      <th>212</th>\n",
              "      <td>Zambia</td>\n",
              "      <td>ZMB</td>\n",
              "      <td>-0.159949</td>\n",
              "      <td>0.218868</td>\n",
              "      <td>0.035720</td>\n",
              "      <td>-0.274405</td>\n",
              "      <td>0.218380</td>\n",
              "      <td>0.190814</td>\n",
              "      <td>0.108463</td>\n",
              "      <td>0.363792</td>\n",
              "      <td>...</td>\n",
              "      <td>0.228020</td>\n",
              "      <td>0.196386</td>\n",
              "      <td>0.202983</td>\n",
              "      <td>0.211598</td>\n",
              "      <td>0.220213</td>\n",
              "      <td>0.219545</td>\n",
              "      <td>0.238545</td>\n",
              "      <td>0.236120</td>\n",
              "      <td>0.239416</td>\n",
              "      <td>0.210672</td>\n",
              "    </tr>\n",
              "    <tr>\n",
              "      <th>213</th>\n",
              "      <td>Zimbabwe</td>\n",
              "      <td>ZWE</td>\n",
              "      <td>-0.466122</td>\n",
              "      <td>-0.740443</td>\n",
              "      <td>-1.318818</td>\n",
              "      <td>-1.515870</td>\n",
              "      <td>-1.087581</td>\n",
              "      <td>-1.204704</td>\n",
              "      <td>-1.267644</td>\n",
              "      <td>-0.931996</td>\n",
              "      <td>...</td>\n",
              "      <td>0.228020</td>\n",
              "      <td>0.196386</td>\n",
              "      <td>0.202983</td>\n",
              "      <td>0.207796</td>\n",
              "      <td>0.215950</td>\n",
              "      <td>0.215237</td>\n",
              "      <td>0.233015</td>\n",
              "      <td>0.236120</td>\n",
              "      <td>0.239416</td>\n",
              "      <td>-0.378845</td>\n",
              "    </tr>\n",
              "    <tr>\n",
              "      <th>117</th>\n",
              "      <td>NaN</td>\n",
              "      <td>XKX</td>\n",
              "      <td>NaN</td>\n",
              "      <td>NaN</td>\n",
              "      <td>NaN</td>\n",
              "      <td>NaN</td>\n",
              "      <td>NaN</td>\n",
              "      <td>NaN</td>\n",
              "      <td>NaN</td>\n",
              "      <td>NaN</td>\n",
              "      <td>...</td>\n",
              "      <td>0.330618</td>\n",
              "      <td>0.218983</td>\n",
              "      <td>0.226195</td>\n",
              "      <td>0.230289</td>\n",
              "      <td>0.239812</td>\n",
              "      <td>0.238550</td>\n",
              "      <td>0.254132</td>\n",
              "      <td>0.251162</td>\n",
              "      <td>0.247812</td>\n",
              "      <td>0.361380</td>\n",
              "    </tr>\n",
              "  </tbody>\n",
              "</table>\n",
              "<p>214 rows × 27 columns</p>\n",
              "</div>\n",
              "    <div class=\"colab-df-buttons\">\n",
              "\n",
              "  <div class=\"colab-df-container\">\n",
              "    <button class=\"colab-df-convert\" onclick=\"convertToInteractive('df-3b00255e-49da-4adb-9b77-ffcba1604b75')\"\n",
              "            title=\"Convert this dataframe to an interactive table.\"\n",
              "            style=\"display:none;\">\n",
              "\n",
              "  <svg xmlns=\"http://www.w3.org/2000/svg\" height=\"24px\" viewBox=\"0 -960 960 960\">\n",
              "    <path d=\"M120-120v-720h720v720H120Zm60-500h600v-160H180v160Zm220 220h160v-160H400v160Zm0 220h160v-160H400v160ZM180-400h160v-160H180v160Zm440 0h160v-160H620v160ZM180-180h160v-160H180v160Zm440 0h160v-160H620v160Z\"/>\n",
              "  </svg>\n",
              "    </button>\n",
              "\n",
              "  <style>\n",
              "    .colab-df-container {\n",
              "      display:flex;\n",
              "      gap: 12px;\n",
              "    }\n",
              "\n",
              "    .colab-df-convert {\n",
              "      background-color: #E8F0FE;\n",
              "      border: none;\n",
              "      border-radius: 50%;\n",
              "      cursor: pointer;\n",
              "      display: none;\n",
              "      fill: #1967D2;\n",
              "      height: 32px;\n",
              "      padding: 0 0 0 0;\n",
              "      width: 32px;\n",
              "    }\n",
              "\n",
              "    .colab-df-convert:hover {\n",
              "      background-color: #E2EBFA;\n",
              "      box-shadow: 0px 1px 2px rgba(60, 64, 67, 0.3), 0px 1px 3px 1px rgba(60, 64, 67, 0.15);\n",
              "      fill: #174EA6;\n",
              "    }\n",
              "\n",
              "    .colab-df-buttons div {\n",
              "      margin-bottom: 4px;\n",
              "    }\n",
              "\n",
              "    [theme=dark] .colab-df-convert {\n",
              "      background-color: #3B4455;\n",
              "      fill: #D2E3FC;\n",
              "    }\n",
              "\n",
              "    [theme=dark] .colab-df-convert:hover {\n",
              "      background-color: #434B5C;\n",
              "      box-shadow: 0px 1px 3px 1px rgba(0, 0, 0, 0.15);\n",
              "      filter: drop-shadow(0px 1px 2px rgba(0, 0, 0, 0.3));\n",
              "      fill: #FFFFFF;\n",
              "    }\n",
              "  </style>\n",
              "\n",
              "    <script>\n",
              "      const buttonEl =\n",
              "        document.querySelector('#df-3b00255e-49da-4adb-9b77-ffcba1604b75 button.colab-df-convert');\n",
              "      buttonEl.style.display =\n",
              "        google.colab.kernel.accessAllowed ? 'block' : 'none';\n",
              "\n",
              "      async function convertToInteractive(key) {\n",
              "        const element = document.querySelector('#df-3b00255e-49da-4adb-9b77-ffcba1604b75');\n",
              "        const dataTable =\n",
              "          await google.colab.kernel.invokeFunction('convertToInteractive',\n",
              "                                                    [key], {});\n",
              "        if (!dataTable) return;\n",
              "\n",
              "        const docLinkHtml = 'Like what you see? Visit the ' +\n",
              "          '<a target=\"_blank\" href=https://colab.research.google.com/notebooks/data_table.ipynb>data table notebook</a>'\n",
              "          + ' to learn more about interactive tables.';\n",
              "        element.innerHTML = '';\n",
              "        dataTable['output_type'] = 'display_data';\n",
              "        await google.colab.output.renderOutput(dataTable, element);\n",
              "        const docLink = document.createElement('div');\n",
              "        docLink.innerHTML = docLinkHtml;\n",
              "        element.appendChild(docLink);\n",
              "      }\n",
              "    </script>\n",
              "  </div>\n",
              "\n",
              "\n",
              "<div id=\"df-69d8c492-671b-41b9-95fd-f4e76303c494\">\n",
              "  <button class=\"colab-df-quickchart\" onclick=\"quickchart('df-69d8c492-671b-41b9-95fd-f4e76303c494')\"\n",
              "            title=\"Suggest charts.\"\n",
              "            style=\"display:none;\">\n",
              "\n",
              "<svg xmlns=\"http://www.w3.org/2000/svg\" height=\"24px\"viewBox=\"0 0 24 24\"\n",
              "     width=\"24px\">\n",
              "    <g>\n",
              "        <path d=\"M19 3H5c-1.1 0-2 .9-2 2v14c0 1.1.9 2 2 2h14c1.1 0 2-.9 2-2V5c0-1.1-.9-2-2-2zM9 17H7v-7h2v7zm4 0h-2V7h2v10zm4 0h-2v-4h2v4z\"/>\n",
              "    </g>\n",
              "</svg>\n",
              "  </button>\n",
              "\n",
              "<style>\n",
              "  .colab-df-quickchart {\n",
              "      --bg-color: #E8F0FE;\n",
              "      --fill-color: #1967D2;\n",
              "      --hover-bg-color: #E2EBFA;\n",
              "      --hover-fill-color: #174EA6;\n",
              "      --disabled-fill-color: #AAA;\n",
              "      --disabled-bg-color: #DDD;\n",
              "  }\n",
              "\n",
              "  [theme=dark] .colab-df-quickchart {\n",
              "      --bg-color: #3B4455;\n",
              "      --fill-color: #D2E3FC;\n",
              "      --hover-bg-color: #434B5C;\n",
              "      --hover-fill-color: #FFFFFF;\n",
              "      --disabled-bg-color: #3B4455;\n",
              "      --disabled-fill-color: #666;\n",
              "  }\n",
              "\n",
              "  .colab-df-quickchart {\n",
              "    background-color: var(--bg-color);\n",
              "    border: none;\n",
              "    border-radius: 50%;\n",
              "    cursor: pointer;\n",
              "    display: none;\n",
              "    fill: var(--fill-color);\n",
              "    height: 32px;\n",
              "    padding: 0;\n",
              "    width: 32px;\n",
              "  }\n",
              "\n",
              "  .colab-df-quickchart:hover {\n",
              "    background-color: var(--hover-bg-color);\n",
              "    box-shadow: 0 1px 2px rgba(60, 64, 67, 0.3), 0 1px 3px 1px rgba(60, 64, 67, 0.15);\n",
              "    fill: var(--button-hover-fill-color);\n",
              "  }\n",
              "\n",
              "  .colab-df-quickchart-complete:disabled,\n",
              "  .colab-df-quickchart-complete:disabled:hover {\n",
              "    background-color: var(--disabled-bg-color);\n",
              "    fill: var(--disabled-fill-color);\n",
              "    box-shadow: none;\n",
              "  }\n",
              "\n",
              "  .colab-df-spinner {\n",
              "    border: 2px solid var(--fill-color);\n",
              "    border-color: transparent;\n",
              "    border-bottom-color: var(--fill-color);\n",
              "    animation:\n",
              "      spin 1s steps(1) infinite;\n",
              "  }\n",
              "\n",
              "  @keyframes spin {\n",
              "    0% {\n",
              "      border-color: transparent;\n",
              "      border-bottom-color: var(--fill-color);\n",
              "      border-left-color: var(--fill-color);\n",
              "    }\n",
              "    20% {\n",
              "      border-color: transparent;\n",
              "      border-left-color: var(--fill-color);\n",
              "      border-top-color: var(--fill-color);\n",
              "    }\n",
              "    30% {\n",
              "      border-color: transparent;\n",
              "      border-left-color: var(--fill-color);\n",
              "      border-top-color: var(--fill-color);\n",
              "      border-right-color: var(--fill-color);\n",
              "    }\n",
              "    40% {\n",
              "      border-color: transparent;\n",
              "      border-right-color: var(--fill-color);\n",
              "      border-top-color: var(--fill-color);\n",
              "    }\n",
              "    60% {\n",
              "      border-color: transparent;\n",
              "      border-right-color: var(--fill-color);\n",
              "    }\n",
              "    80% {\n",
              "      border-color: transparent;\n",
              "      border-right-color: var(--fill-color);\n",
              "      border-bottom-color: var(--fill-color);\n",
              "    }\n",
              "    90% {\n",
              "      border-color: transparent;\n",
              "      border-bottom-color: var(--fill-color);\n",
              "    }\n",
              "  }\n",
              "</style>\n",
              "\n",
              "  <script>\n",
              "    async function quickchart(key) {\n",
              "      const quickchartButtonEl =\n",
              "        document.querySelector('#' + key + ' button');\n",
              "      quickchartButtonEl.disabled = true;  // To prevent multiple clicks.\n",
              "      quickchartButtonEl.classList.add('colab-df-spinner');\n",
              "      try {\n",
              "        const charts = await google.colab.kernel.invokeFunction(\n",
              "            'suggestCharts', [key], {});\n",
              "      } catch (error) {\n",
              "        console.error('Error during call to suggestCharts:', error);\n",
              "      }\n",
              "      quickchartButtonEl.classList.remove('colab-df-spinner');\n",
              "      quickchartButtonEl.classList.add('colab-df-quickchart-complete');\n",
              "    }\n",
              "    (() => {\n",
              "      let quickchartButtonEl =\n",
              "        document.querySelector('#df-69d8c492-671b-41b9-95fd-f4e76303c494 button');\n",
              "      quickchartButtonEl.style.display =\n",
              "        google.colab.kernel.accessAllowed ? 'block' : 'none';\n",
              "    })();\n",
              "  </script>\n",
              "</div>\n",
              "    </div>\n",
              "  </div>\n"
            ]
          },
          "metadata": {},
          "execution_count": 4
        }
      ],
      "source": [
        "stability.sort_values(\"Country\")"
      ]
    },
    {
      "cell_type": "code",
      "execution_count": 5,
      "id": "b50cd40f",
      "metadata": {
        "colab": {
          "base_uri": "https://localhost:8080/"
        },
        "id": "b50cd40f",
        "outputId": "22727b25-b887-44f8-9081-b8995ba9b536"
      },
      "outputs": [
        {
          "output_type": "execute_result",
          "data": {
            "text/plain": [
              "1"
            ]
          },
          "metadata": {},
          "execution_count": 5
        }
      ],
      "source": [
        "stability[\"Country\"].isna().sum()"
      ]
    },
    {
      "cell_type": "code",
      "execution_count": null,
      "id": "2b42cd1a",
      "metadata": {
        "scrolled": true,
        "id": "2b42cd1a"
      },
      "outputs": [],
      "source": [
        "stability[stability[\"Country\"].isna()]"
      ]
    },
    {
      "cell_type": "code",
      "execution_count": 7,
      "id": "ccc90e30",
      "metadata": {
        "id": "ccc90e30"
      },
      "outputs": [],
      "source": [
        "stability.dropna(subset= \"Country\", inplace=True)"
      ]
    },
    {
      "cell_type": "code",
      "execution_count": 8,
      "id": "dd8d1dbf",
      "metadata": {
        "id": "dd8d1dbf"
      },
      "outputs": [],
      "source": [
        "countries = {country for country in stability[\"Country\"]}"
      ]
    },
    {
      "cell_type": "code",
      "execution_count": 9,
      "id": "f6ef179f",
      "metadata": {
        "id": "f6ef179f"
      },
      "outputs": [],
      "source": [
        "years  = {year for year in stability.columns[2:-1]}"
      ]
    },
    {
      "cell_type": "code",
      "execution_count": 10,
      "id": "ca3bda03",
      "metadata": {
        "id": "ca3bda03"
      },
      "outputs": [],
      "source": [
        "years_to_country_dict = {country: {year: \"value\" for year in years} for country in countries}"
      ]
    },
    {
      "cell_type": "code",
      "execution_count": 11,
      "id": "f7a10ecf",
      "metadata": {
        "id": "f7a10ecf"
      },
      "outputs": [],
      "source": [
        "for country in countries:\n",
        "    for year in years:\n",
        "        years_to_country_dict[country][year] = stability.loc[stability[\"Country\"] == country, year].values[0]"
      ]
    },
    {
      "cell_type": "code",
      "execution_count": 12,
      "id": "682fbddf",
      "metadata": {
        "id": "682fbddf"
      },
      "outputs": [],
      "source": [
        "oppenheimer = []\n",
        "for country in countries:\n",
        "    for year in years:\n",
        "        oppenheimer.append([country, year, years_to_country_dict[country][year]])"
      ]
    },
    {
      "cell_type": "code",
      "execution_count": 13,
      "id": "6799dc6d",
      "metadata": {
        "id": "6799dc6d"
      },
      "outputs": [],
      "source": [
        "stability.dropna(subset=\"AverageStabilityIndex\",inplace=True)"
      ]
    },
    {
      "cell_type": "code",
      "execution_count": 14,
      "id": "dfed50f4",
      "metadata": {
        "id": "dfed50f4"
      },
      "outputs": [],
      "source": [
        "country_to_average_stability_index = {}\n",
        "for i, value in stability.iterrows():\n",
        "    country_to_average_stability_index[value[\"Country\"]] = value[\"AverageStabilityIndex\"]"
      ]
    },
    {
      "cell_type": "code",
      "execution_count": 15,
      "id": "6c3252e0",
      "metadata": {
        "id": "6c3252e0"
      },
      "outputs": [],
      "source": [
        "oppenheimer= []\n",
        "\n",
        "for country in countries:\n",
        "    for year in years:\n",
        "        oppenheimer.append([country, year, years_to_country_dict[country][year]])"
      ]
    },
    {
      "cell_type": "code",
      "execution_count": 16,
      "id": "f7c9b58b",
      "metadata": {
        "id": "f7c9b58b"
      },
      "outputs": [],
      "source": [
        "oppenheimer = pd.DataFrame(oppenheimer)"
      ]
    },
    {
      "cell_type": "code",
      "execution_count": 17,
      "id": "cf4ac46a",
      "metadata": {
        "scrolled": true,
        "id": "cf4ac46a"
      },
      "outputs": [],
      "source": [
        "oppenheimer = oppenheimer.rename(columns={0:\"country\",1:\"year\",2:\"stability-value\"})"
      ]
    },
    {
      "cell_type": "code",
      "execution_count": 18,
      "id": "6846d66d",
      "metadata": {
        "colab": {
          "base_uri": "https://localhost:8080/"
        },
        "id": "6846d66d",
        "outputId": "ff763d6d-5906-4ee5-a974-ee18b2286b9c"
      },
      "outputs": [
        {
          "output_type": "execute_result",
          "data": {
            "text/plain": [
              "Index(['country', 'year', 'stability-value'], dtype='object')"
            ]
          },
          "metadata": {},
          "execution_count": 18
        }
      ],
      "source": [
        "oppenheimer.columns"
      ]
    },
    {
      "cell_type": "code",
      "execution_count": 19,
      "id": "337b1617",
      "metadata": {
        "id": "337b1617"
      },
      "outputs": [],
      "source": [
        "oppenheimer = oppenheimer.sort_values([\"country\",\"year\"])"
      ]
    },
    {
      "cell_type": "code",
      "execution_count": null,
      "id": "ce6cfeb6",
      "metadata": {
        "id": "ce6cfeb6"
      },
      "outputs": [],
      "source": [
        "oppenheimer"
      ]
    },
    {
      "cell_type": "code",
      "execution_count": 21,
      "id": "dc8c60fb",
      "metadata": {
        "id": "dc8c60fb"
      },
      "outputs": [],
      "source": [
        "av_stab = []\n",
        "for country in countries:\n",
        "    av_stab.append([country, country_to_average_stability_index[country]])"
      ]
    },
    {
      "cell_type": "code",
      "execution_count": 22,
      "id": "7173c52c",
      "metadata": {
        "id": "7173c52c"
      },
      "outputs": [],
      "source": [
        "av_stab = pd.DataFrame(av_stab).rename(columns={0:\"country\", 1:\"AverageStabilityIndex\"})\n"
      ]
    },
    {
      "cell_type": "code",
      "execution_count": 23,
      "id": "b1667294",
      "metadata": {
        "scrolled": true,
        "id": "b1667294"
      },
      "outputs": [],
      "source": [
        "av_stab = av_stab.sort_values(\"country\")"
      ]
    },
    {
      "cell_type": "code",
      "execution_count": null,
      "id": "cfb3726a",
      "metadata": {
        "id": "cfb3726a"
      },
      "outputs": [],
      "source": [
        "av_stab.set_index(\"country\")"
      ]
    },
    {
      "cell_type": "code",
      "execution_count": 25,
      "id": "ca74ddfd",
      "metadata": {
        "scrolled": true,
        "id": "ca74ddfd"
      },
      "outputs": [],
      "source": [
        "stability_df = oppenheimer.merge(av_stab, on=\"country\")"
      ]
    },
    {
      "cell_type": "code",
      "execution_count": 26,
      "id": "1cfc5778",
      "metadata": {
        "id": "1cfc5778"
      },
      "outputs": [],
      "source": [
        "stability_df.rename(columns={\"stability-value\": \"political-stability-value\",\"AverageStabilityIndex\":\"average-political-stability-index\"},inplace=True)"
      ]
    },
    {
      "cell_type": "markdown",
      "id": "1963108c",
      "metadata": {
        "id": "1963108c"
      },
      "source": [
        "### Sanctions Data"
      ]
    },
    {
      "cell_type": "code",
      "execution_count": 27,
      "id": "9b2a1988",
      "metadata": {
        "id": "9b2a1988"
      },
      "outputs": [],
      "source": [
        "sanctions = pd.read_csv(r\"/content/drive/MyDrive/sanctions-data-20230818.csv\",index_col=0)"
      ]
    },
    {
      "cell_type": "code",
      "execution_count": null,
      "id": "223e7d53",
      "metadata": {
        "id": "223e7d53"
      },
      "outputs": [],
      "source": [
        "sanctions.columns"
      ]
    },
    {
      "cell_type": "markdown",
      "id": "2e1de6bf",
      "metadata": {
        "id": "2e1de6bf"
      },
      "source": [
        "Slicing the dataset to our liking"
      ]
    },
    {
      "cell_type": "code",
      "execution_count": 29,
      "id": "1573fae7",
      "metadata": {
        "id": "1573fae7"
      },
      "outputs": [],
      "source": [
        "sanctions_cut = sanctions[[\"caseid\",\"startyear\",\"endyear\",\"sender1\",\"sender2\", \"sender3\",\"sender4\",\n",
        "                           \"sender5\",\"primarysender\",\"targetstate\",\"anticipatedtargetcosts_z\", \"targetcosts_z\",\n",
        "                           \"sendereconomiccostsfigure_z\",\"Severity\",\"senders_combined\"]]"
      ]
    },
    {
      "cell_type": "markdown",
      "id": "592ed6f5",
      "metadata": {
        "id": "592ed6f5"
      },
      "source": [
        "Back to the original dataset to create some columns"
      ]
    },
    {
      "cell_type": "markdown",
      "id": "68e61ba5",
      "metadata": {
        "id": "68e61ba5"
      },
      "source": [
        "Start and End Dates"
      ]
    },
    {
      "cell_type": "code",
      "execution_count": null,
      "id": "a3f35d76",
      "metadata": {
        "id": "a3f35d76"
      },
      "outputs": [],
      "source": [
        "sanctions[\"combined_date\"] = (sanctions[\"startyear\"].astype(str).str.split(\".\").str[0]\n",
        "                             + \"-\" +\n",
        "                             sanctions[\"startmonth\"].astype(str).str.split(\".\").str[0]\n",
        "                             + \"-\" +\n",
        "                             sanctions[\"startday\"].astype(str).str.split(\".\").str[0])\n",
        "mask = ~sanctions[\"combined_date\"].isnull()\n",
        "sanctions.loc[mask, \"startdate\"] = pd.to_datetime(sanctions.loc[mask, \"combined_date\"], errors=\"coerce\" )\n",
        "sanctions.drop(columns={\"combined_date\"})"
      ]
    },
    {
      "cell_type": "code",
      "execution_count": null,
      "id": "6ce0f009",
      "metadata": {
        "id": "6ce0f009"
      },
      "outputs": [],
      "source": [
        "sanctions['combined_date'] = (sanctions[\"endyear\"].astype(str).str.split('.').str[0] + '-' +\n",
        "                             sanctions['endmonth'].astype(str).str.split('.').str[0] + '-' +\n",
        "                             sanctions['endday'].astype(str).str.split('.').str[0])\n",
        "mask = ~sanctions['combined_date'].isnull()\n",
        "sanctions.loc[mask, 'enddate'] = pd.to_datetime(sanctions.loc[mask, 'combined_date'], errors='coerce')\n",
        "sanctions = sanctions.drop(columns=['combined_date'])\n"
      ]
    },
    {
      "cell_type": "code",
      "execution_count": 32,
      "id": "d56a226f",
      "metadata": {
        "id": "d56a226f"
      },
      "outputs": [],
      "source": [
        "sanctions[\"months_taken\"] =  (sanctions['enddate'] - sanctions['startdate']) / np.timedelta64(1, 'M')"
      ]
    },
    {
      "cell_type": "code",
      "execution_count": null,
      "id": "4c75942a",
      "metadata": {
        "id": "4c75942a"
      },
      "outputs": [],
      "source": [
        "sanctions[\"months_taken\"].dtype"
      ]
    },
    {
      "cell_type": "code",
      "execution_count": null,
      "id": "1ae433c5",
      "metadata": {
        "scrolled": true,
        "id": "1ae433c5"
      },
      "outputs": [],
      "source": [
        "sanctions[\"months_taken\"]"
      ]
    },
    {
      "cell_type": "code",
      "execution_count": 35,
      "id": "83fad07c",
      "metadata": {
        "id": "83fad07c"
      },
      "outputs": [],
      "source": [
        "mask = ~sanctions[\"months_taken\"].isnull()\n",
        "sanctions.loc[mask, \"months_taken\"] = sanctions.loc[mask, \"months_taken\"].astype(str).str.split(\".\").str[0]"
      ]
    },
    {
      "cell_type": "code",
      "execution_count": null,
      "id": "0255a528",
      "metadata": {
        "scrolled": true,
        "id": "0255a528"
      },
      "outputs": [],
      "source": [
        "sanctions[\"months_taken\"]"
      ]
    },
    {
      "cell_type": "code",
      "execution_count": null,
      "id": "1727fecf",
      "metadata": {
        "id": "1727fecf"
      },
      "outputs": [],
      "source": [
        "sanctions_cut.isna().sum() #quite good other than the seperate senders"
      ]
    },
    {
      "cell_type": "code",
      "execution_count": null,
      "id": "ca24ccd3",
      "metadata": {
        "id": "ca24ccd3"
      },
      "outputs": [],
      "source": [
        "sanctions_cut.set_index([\"targetstate\"]).sort_values(\"targetstate\")"
      ]
    },
    {
      "cell_type": "markdown",
      "id": "a921ef83",
      "metadata": {
        "id": "a921ef83"
      },
      "source": [
        "Droping the senders columns since there are many NaN columns"
      ]
    },
    {
      "cell_type": "code",
      "execution_count": 39,
      "id": "e8f4df0f",
      "metadata": {
        "id": "e8f4df0f"
      },
      "outputs": [],
      "source": [
        "selected_columns = sanctions_cut.columns[4:9]\n",
        "for column in selected_columns:\n",
        "    sanctions_cut.drop(columns={column},inplace=True)"
      ]
    },
    {
      "cell_type": "code",
      "execution_count": null,
      "id": "88dc0a43",
      "metadata": {
        "id": "88dc0a43"
      },
      "outputs": [],
      "source": [
        "sanctions_cut.reset_index()"
      ]
    },
    {
      "cell_type": "code",
      "execution_count": null,
      "id": "ad392242",
      "metadata": {
        "id": "ad392242"
      },
      "outputs": [],
      "source": [
        "sanctions_cut[\"targetstate\"].isnull()"
      ]
    },
    {
      "cell_type": "code",
      "execution_count": 42,
      "id": "de8759f4",
      "metadata": {
        "id": "de8759f4"
      },
      "outputs": [],
      "source": [
        "sanctions_cut.dropna(subset=\"targetstate\",inplace=True)"
      ]
    },
    {
      "cell_type": "code",
      "execution_count": null,
      "id": "bb179fb3",
      "metadata": {
        "id": "bb179fb3"
      },
      "outputs": [],
      "source": [
        "sanctions_cut[\"targetstate\"].isnull().sum()"
      ]
    },
    {
      "cell_type": "code",
      "execution_count": null,
      "id": "ef042b92",
      "metadata": {
        "scrolled": false,
        "id": "ef042b92"
      },
      "outputs": [],
      "source": [
        "sanctions_cut.set_index(\"targetstate\").sort_values([\"targetstate\"])"
      ]
    },
    {
      "cell_type": "code",
      "execution_count": 45,
      "id": "8727844d",
      "metadata": {
        "id": "8727844d"
      },
      "outputs": [],
      "source": [
        "sanctions_cut.rename(columns={\"sender1\": \"senderstate\"},inplace=True)"
      ]
    },
    {
      "cell_type": "code",
      "execution_count": 46,
      "id": "4d002a7f",
      "metadata": {
        "scrolled": true,
        "id": "4d002a7f"
      },
      "outputs": [],
      "source": [
        "sanctions_cut.set_index(\"targetstate\",inplace=True)"
      ]
    },
    {
      "cell_type": "code",
      "execution_count": 47,
      "id": "3060327c",
      "metadata": {
        "id": "3060327c"
      },
      "outputs": [],
      "source": [
        "sanctions_cut[\"endyear\"] = sanctions_cut[\"endyear\"].astype(str).str.split(\".\").str[0]"
      ]
    },
    {
      "cell_type": "code",
      "execution_count": 48,
      "id": "fd24ef8e",
      "metadata": {
        "id": "fd24ef8e"
      },
      "outputs": [],
      "source": [
        "sanctions_cut.replace(\"nan\", np.nan, inplace=True)"
      ]
    },
    {
      "cell_type": "code",
      "execution_count": 49,
      "id": "1245b37f",
      "metadata": {
        "id": "1245b37f"
      },
      "outputs": [],
      "source": [
        "sanctions_cut.sort_values(\"targetstate\",inplace=True)"
      ]
    },
    {
      "cell_type": "code",
      "execution_count": null,
      "id": "46158238",
      "metadata": {
        "id": "46158238"
      },
      "outputs": [],
      "source": [
        "sanctions_cut.reset_index()"
      ]
    },
    {
      "cell_type": "code",
      "execution_count": 51,
      "id": "7138b3b6",
      "metadata": {
        "id": "7138b3b6"
      },
      "outputs": [],
      "source": [
        "stability_df.rename(columns={\"country\": \"targetstate\"},inplace=True)"
      ]
    },
    {
      "cell_type": "code",
      "execution_count": 52,
      "id": "14c8a5fb",
      "metadata": {
        "id": "14c8a5fb"
      },
      "outputs": [],
      "source": [
        "stability_df[\"year\"] = stability_df[\"year\"].str.extract(r'(\\d{4})')[0]"
      ]
    },
    {
      "cell_type": "code",
      "execution_count": null,
      "id": "f6ab2f13",
      "metadata": {
        "scrolled": true,
        "id": "f6ab2f13"
      },
      "outputs": [],
      "source": [
        "stability_df"
      ]
    },
    {
      "cell_type": "code",
      "execution_count": 54,
      "id": "10955043",
      "metadata": {
        "id": "10955043"
      },
      "outputs": [],
      "source": [
        "country_to_year_dict = {}\n",
        "for i, row in stability_df.iterrows():\n",
        "    country = row[\"targetstate\"]\n",
        "    year = row[\"year\"]\n",
        "    values = row[\"political-stability-value\"]\n",
        "    if country not in country_to_year_dict:\n",
        "        country_to_year_dict[country] = {}\n",
        "    country_to_year_dict[country][year] = values\n"
      ]
    },
    {
      "cell_type": "code",
      "execution_count": 55,
      "id": "8a9588dc",
      "metadata": {
        "id": "8a9588dc"
      },
      "outputs": [],
      "source": [
        "stability_years_unique = list(country_to_year_dict[country].keys()) #unique stability years"
      ]
    },
    {
      "cell_type": "code",
      "execution_count": null,
      "id": "f52f39dd",
      "metadata": {
        "scrolled": true,
        "id": "f52f39dd"
      },
      "outputs": [],
      "source": [
        "print(stability_years_unique)"
      ]
    },
    {
      "cell_type": "code",
      "execution_count": 57,
      "id": "82e3e435",
      "metadata": {
        "id": "82e3e435"
      },
      "outputs": [],
      "source": [
        "sanctions_fl = sanctions_cut[sanctions_cut[\"endyear\"].isin(stability_years_unique)]"
      ]
    },
    {
      "cell_type": "code",
      "execution_count": null,
      "id": "bd7575d5",
      "metadata": {
        "id": "bd7575d5"
      },
      "outputs": [],
      "source": [
        "sanctions_fl"
      ]
    },
    {
      "cell_type": "code",
      "execution_count": 59,
      "id": "b607dfbe",
      "metadata": {
        "id": "b607dfbe"
      },
      "outputs": [],
      "source": [
        "sanctions_unique_years =  set(sanctions_fl[\"endyear\"])"
      ]
    },
    {
      "cell_type": "code",
      "execution_count": null,
      "id": "1c031e4e",
      "metadata": {
        "scrolled": true,
        "id": "1c031e4e"
      },
      "outputs": [],
      "source": [
        "print(sorted(sanctions_unique_years))"
      ]
    },
    {
      "cell_type": "code",
      "execution_count": null,
      "id": "9045ce2a",
      "metadata": {
        "id": "9045ce2a"
      },
      "outputs": [],
      "source": [
        "print(stability_years_unique)"
      ]
    },
    {
      "cell_type": "code",
      "execution_count": 62,
      "id": "e719298f",
      "metadata": {
        "id": "e719298f"
      },
      "outputs": [],
      "source": [
        "stability_df = stability_df[stability_df[\"year\"].isin(sanctions_unique_years)]"
      ]
    },
    {
      "cell_type": "code",
      "execution_count": null,
      "id": "cb6a6838",
      "metadata": {
        "id": "cb6a6838"
      },
      "outputs": [],
      "source": [
        "sanctions_fl"
      ]
    },
    {
      "cell_type": "code",
      "execution_count": null,
      "id": "141e80f8",
      "metadata": {
        "id": "141e80f8"
      },
      "outputs": [],
      "source": [
        "stability_df.rename(columns={\"country\": \"targetstate\"},inplace=True)"
      ]
    },
    {
      "cell_type": "code",
      "execution_count": null,
      "id": "7c599f1d",
      "metadata": {
        "id": "7c599f1d"
      },
      "outputs": [],
      "source": [
        "stability_df"
      ]
    },
    {
      "cell_type": "code",
      "execution_count": null,
      "id": "cffbc136",
      "metadata": {
        "id": "cffbc136"
      },
      "outputs": [],
      "source": [
        "sanctions_fl"
      ]
    },
    {
      "cell_type": "code",
      "execution_count": null,
      "id": "884cb6f6",
      "metadata": {
        "id": "884cb6f6"
      },
      "outputs": [],
      "source": [
        "sanctions_fl.isna().sum()"
      ]
    },
    {
      "cell_type": "code",
      "execution_count": 68,
      "id": "b0817a61",
      "metadata": {
        "id": "b0817a61"
      },
      "outputs": [],
      "source": [
        "stability_dict = {}\n",
        "for i, row in stability_df.iterrows():\n",
        "    targetstate = row[\"targetstate\"]\n",
        "    year = row[\"year\"]\n",
        "    value = row[\"political-stability-value\"]\n",
        "    if targetstate not in stability_dict:\n",
        "        stability_dict[targetstate] = {}\n",
        "    stability_dict[targetstate][year] = value"
      ]
    },
    {
      "cell_type": "code",
      "execution_count": null,
      "id": "d6fc57a8",
      "metadata": {
        "id": "d6fc57a8"
      },
      "outputs": [],
      "source": [
        "stability_dict[\"Afghanistan\"][\"2002\"]"
      ]
    },
    {
      "cell_type": "code",
      "execution_count": 70,
      "id": "7616ec9e",
      "metadata": {
        "id": "7616ec9e"
      },
      "outputs": [],
      "source": [
        "sanctions_fl = sanctions_fl.reset_index()"
      ]
    },
    {
      "cell_type": "code",
      "execution_count": 71,
      "id": "76eadd14",
      "metadata": {
        "id": "76eadd14"
      },
      "outputs": [],
      "source": [
        "def get_stability(row):\n",
        "    country = row['targetstate']\n",
        "    year = row['endyear']\n",
        "    return stability_dict.get(country, {}).get(year, None)  # returns None if country or year is not in the dictionary\n",
        "sanctions_fl['political-stability-value'] = sanctions_fl.apply(get_stability, axis=1)"
      ]
    },
    {
      "cell_type": "code",
      "execution_count": null,
      "id": "f80b8995",
      "metadata": {
        "scrolled": true,
        "id": "f80b8995"
      },
      "outputs": [],
      "source": [
        "sanctions_fl['political-stability-value']"
      ]
    },
    {
      "cell_type": "code",
      "execution_count": null,
      "id": "a9b37d0f",
      "metadata": {
        "id": "a9b37d0f"
      },
      "outputs": [],
      "source": [
        "sanctions_fl.rename(columns={\"political-stability-value\":\"PSV-endyear\"})"
      ]
    },
    {
      "cell_type": "code",
      "execution_count": null,
      "id": "74a9644a",
      "metadata": {
        "scrolled": true,
        "id": "74a9644a"
      },
      "outputs": [],
      "source": [
        "sanctions_fl.isna().sum()"
      ]
    },
    {
      "cell_type": "code",
      "execution_count": null,
      "id": "7e2b8017",
      "metadata": {
        "id": "7e2b8017"
      },
      "outputs": [],
      "source": [
        "sanctions_fl.shape"
      ]
    },
    {
      "cell_type": "markdown",
      "id": "3ea3de5e",
      "metadata": {
        "id": "3ea3de5e"
      },
      "source": [
        "When the scatter plot's dots are vertical, there is often little to no linear association between the two variables. In other words, there is no linear relationship between changes in the Severity variable and changes in the political-stability-value variable."
      ]
    },
    {
      "cell_type": "code",
      "execution_count": 76,
      "id": "d4123053",
      "metadata": {
        "id": "d4123053"
      },
      "outputs": [],
      "source": [
        "sanctions_fl_filtered = sanctions_fl.dropna(subset=['Severity', 'political-stability-value'])\n"
      ]
    },
    {
      "cell_type": "code",
      "execution_count": null,
      "id": "604fdaf8",
      "metadata": {
        "id": "604fdaf8"
      },
      "outputs": [],
      "source": [
        "sanctions_fl_filtered.shape"
      ]
    },
    {
      "cell_type": "code",
      "source": [
        "from sklearn.linear_model import LinearRegression"
      ],
      "metadata": {
        "id": "znCRlAJ5O39M"
      },
      "id": "znCRlAJ5O39M",
      "execution_count": 78,
      "outputs": []
    },
    {
      "cell_type": "code",
      "source": [
        "sanctions_fl_filtered.isna().sum()"
      ],
      "metadata": {
        "id": "Ls7VYOOTPPq3"
      },
      "id": "Ls7VYOOTPPq3",
      "execution_count": null,
      "outputs": []
    },
    {
      "cell_type": "code",
      "source": [
        "sanctions_fl_filtered.reset_index(inplace=True)"
      ],
      "metadata": {
        "id": "v-lKlnL4R4ge"
      },
      "id": "v-lKlnL4R4ge",
      "execution_count": 80,
      "outputs": []
    },
    {
      "cell_type": "code",
      "source": [
        "sanctions_fl_filtered.set_index(\"index\",inplace=True)"
      ],
      "metadata": {
        "id": "YBR7B7BLarRJ"
      },
      "id": "YBR7B7BLarRJ",
      "execution_count": 81,
      "outputs": []
    },
    {
      "cell_type": "code",
      "source": [
        "sanctions_fl_filtered = sanctions_fl_filtered.set_index(['targetstate', 'startyear'])"
      ],
      "metadata": {
        "id": "pJNxJFbYaq8K"
      },
      "id": "pJNxJFbYaq8K",
      "execution_count": 82,
      "outputs": []
    },
    {
      "cell_type": "code",
      "source": [
        "sanctions_fl_filtered[:20]"
      ],
      "metadata": {
        "id": "jinsbR0GbXBK"
      },
      "id": "jinsbR0GbXBK",
      "execution_count": null,
      "outputs": []
    },
    {
      "cell_type": "markdown",
      "source": [
        "Removing the country duplicates from the equation for the Panel OLS model"
      ],
      "metadata": {
        "id": "4b74H_24Slt1"
      },
      "id": "4b74H_24Slt1"
    },
    {
      "cell_type": "code",
      "source": [
        "len(sanctions_fl_filtered.index.levels[0])"
      ],
      "metadata": {
        "colab": {
          "base_uri": "https://localhost:8080/"
        },
        "id": "bZ-efV-4RXcS",
        "outputId": "1be78c1c-9166-438b-9739-209427d5fba8"
      },
      "id": "bZ-efV-4RXcS",
      "execution_count": 84,
      "outputs": [
        {
          "output_type": "execute_result",
          "data": {
            "text/plain": [
              "115"
            ]
          },
          "metadata": {},
          "execution_count": 84
        }
      ]
    },
    {
      "cell_type": "markdown",
      "source": [
        "### WorldBank Data"
      ],
      "metadata": {
        "id": "Jsrkut3uaYDT"
      },
      "id": "Jsrkut3uaYDT"
    },
    {
      "cell_type": "code",
      "source": [
        "import pandas as pd"
      ],
      "metadata": {
        "id": "2A-8-fl8a7SD"
      },
      "id": "2A-8-fl8a7SD",
      "execution_count": 85,
      "outputs": []
    },
    {
      "cell_type": "code",
      "source": [
        "wb = pd.read_excel('/content/drive/MyDrive/worldbank-data.xlsx')"
      ],
      "metadata": {
        "id": "Rj3nPu-daaLA"
      },
      "id": "Rj3nPu-daaLA",
      "execution_count": 86,
      "outputs": []
    },
    {
      "cell_type": "code",
      "source": [
        "wb"
      ],
      "metadata": {
        "id": "XGdcZ5hTaadN"
      },
      "id": "XGdcZ5hTaadN",
      "execution_count": null,
      "outputs": []
    },
    {
      "cell_type": "code",
      "source": [
        "set(sanctions_fl_filtered.endyear)"
      ],
      "metadata": {
        "id": "dYEf8OrYc-jE"
      },
      "id": "dYEf8OrYc-jE",
      "execution_count": null,
      "outputs": []
    },
    {
      "cell_type": "markdown",
      "source": [
        "Filtering out the WB df with dates"
      ],
      "metadata": {
        "id": "2l4ne2_Tdl6C"
      },
      "id": "2l4ne2_Tdl6C"
    },
    {
      "cell_type": "code",
      "source": [
        "wb.columns"
      ],
      "metadata": {
        "id": "1Vc-rtF6c-P0"
      },
      "id": "1Vc-rtF6c-P0",
      "execution_count": null,
      "outputs": []
    },
    {
      "cell_type": "code",
      "source": [
        "df_years = set(sanctions_fl_filtered.endyear)"
      ],
      "metadata": {
        "id": "8x962HfGdrvM"
      },
      "id": "8x962HfGdrvM",
      "execution_count": 90,
      "outputs": []
    },
    {
      "cell_type": "code",
      "source": [
        "df_years = [int(year) for year in df_years]"
      ],
      "metadata": {
        "id": "Ygh5Z3eteOsL"
      },
      "id": "Ygh5Z3eteOsL",
      "execution_count": 91,
      "outputs": []
    },
    {
      "cell_type": "code",
      "source": [
        "wb[\"year\"].isna().sum()"
      ],
      "metadata": {
        "id": "JXPXRGc_fFi-"
      },
      "id": "JXPXRGc_fFi-",
      "execution_count": null,
      "outputs": []
    },
    {
      "cell_type": "code",
      "source": [
        "print(len(df_years))\n"
      ],
      "metadata": {
        "id": "2E2Mief6fKg9"
      },
      "id": "2E2Mief6fKg9",
      "execution_count": null,
      "outputs": []
    },
    {
      "cell_type": "code",
      "source": [
        "print(wb[\"year\"].nunique())"
      ],
      "metadata": {
        "id": "5I04sQTOfPZ2"
      },
      "id": "5I04sQTOfPZ2",
      "execution_count": null,
      "outputs": []
    },
    {
      "cell_type": "code",
      "source": [
        "wb = wb[wb[\"year\"].isin(df_years)]\n",
        "wb"
      ],
      "metadata": {
        "id": "Mhy4lyt4eOlC"
      },
      "id": "Mhy4lyt4eOlC",
      "execution_count": null,
      "outputs": []
    },
    {
      "cell_type": "code",
      "source": [
        "len(set(wb.year))"
      ],
      "metadata": {
        "id": "C5D3RwdYeOZM"
      },
      "id": "C5D3RwdYeOZM",
      "execution_count": null,
      "outputs": []
    },
    {
      "cell_type": "markdown",
      "source": [
        "Dropping the columns we don't need.\n"
      ],
      "metadata": {
        "id": "o3IaptSZfzsc"
      },
      "id": "o3IaptSZfzsc"
    },
    {
      "cell_type": "code",
      "source": [
        "wb.drop(columns=[\"total-population\",\"surface-area\",\"access-to-electricity\",\"iso2c\",\"iso3c\"])"
      ],
      "metadata": {
        "id": "X6kqaKnHdrl6"
      },
      "id": "X6kqaKnHdrl6",
      "execution_count": null,
      "outputs": []
    },
    {
      "cell_type": "code",
      "source": [
        "wb.rename(columns={\"country\":\"targetstate\",\"year\":\"endyear\"},inplace=True)"
      ],
      "metadata": {
        "id": "No8HNjCTgdaP"
      },
      "id": "No8HNjCTgdaP",
      "execution_count": null,
      "outputs": []
    },
    {
      "cell_type": "code",
      "source": [
        "wb.columns"
      ],
      "metadata": {
        "id": "6OTKvvIDgapL"
      },
      "id": "6OTKvvIDgapL",
      "execution_count": null,
      "outputs": []
    },
    {
      "cell_type": "code",
      "source": [
        "sanctions_fl_filtered.columns"
      ],
      "metadata": {
        "id": "XeXvxX-jdrg0"
      },
      "id": "XeXvxX-jdrg0",
      "execution_count": null,
      "outputs": []
    },
    {
      "cell_type": "code",
      "source": [
        "wb.isna().sum()"
      ],
      "metadata": {
        "id": "Gti3SYHchM4s"
      },
      "id": "Gti3SYHchM4s",
      "execution_count": null,
      "outputs": []
    },
    {
      "cell_type": "code",
      "source": [
        "wb.dropna(subset=[\"endyear\",\"gdp-per-capita\",\"inflation-rate\",\"unemployment-rate\"],inplace=True)"
      ],
      "metadata": {
        "id": "T2rT5qZqic4k"
      },
      "id": "T2rT5qZqic4k",
      "execution_count": null,
      "outputs": []
    },
    {
      "cell_type": "code",
      "source": [
        "wb_dict = {}\n",
        "for i,row in wb.iterrows():\n",
        "  country = row[\"targetstate\"]\n",
        "  year = row[\"endyear\"]\n",
        "  gdp = row[\"gdp-per-capita\"] #0\n",
        "  inflation = row[\"inflation-rate\"]\n",
        "  unemployment = row[\"unemployment-rate\"]\n",
        "  expectancy = row[\"life-expectancy-at-birth\"]\n",
        "  if country not in wb_dict:\n",
        "    wb_dict[country] = {}\n",
        "  wb_dict[country][year] = gdp,inflation,unemployment,expectancy"
      ],
      "metadata": {
        "id": "WtFpIxzlhNMs"
      },
      "id": "WtFpIxzlhNMs",
      "execution_count": 103,
      "outputs": []
    },
    {
      "cell_type": "code",
      "source": [
        "sanctions_fl_filtered.reset_index(inplace=True)"
      ],
      "metadata": {
        "id": "77rx2Kj4mLKx"
      },
      "id": "77rx2Kj4mLKx",
      "execution_count": 104,
      "outputs": []
    },
    {
      "cell_type": "code",
      "source": [
        "wb_dict['Afghanistan'][2005] #checking"
      ],
      "metadata": {
        "id": "-5NJGT7wrnCJ"
      },
      "id": "-5NJGT7wrnCJ",
      "execution_count": null,
      "outputs": []
    },
    {
      "cell_type": "code",
      "source": [
        "def populate_dataframe_with_economic_data(df, wb_data): #populates the sanctions_fl_filtered with WorldBank Data\n",
        "    gdp_list = []\n",
        "    inflation_list = []\n",
        "    unemployment_list = []\n",
        "    expectancy_list = []\n",
        "\n",
        "    for i, row in df.iterrows():\n",
        "        country = str(row[\"targetstate\"])\n",
        "        year = int(row[\"endyear\"])  # convert to integer\n",
        "\n",
        "        try:\n",
        "            gdp = wb_data[country][year][0]\n",
        "            inflation = wb_data[country][year][1]\n",
        "            unemployment = wb_data[country][year][2]\n",
        "            expectancy = wb_data[country][year][3]\n",
        "\n",
        "            gdp_list.append(gdp)\n",
        "            inflation_list.append(inflation)\n",
        "            unemployment_list.append(unemployment)\n",
        "            expectancy_list.append(expectancy)\n",
        "\n",
        "        except KeyError:\n",
        "            print(f\"KeyError: Data for country {country} and year {year} not found.\")\n",
        "            gdp_list.append(None)\n",
        "            inflation_list.append(None)\n",
        "            unemployment_list.append(None)\n",
        "            expectancy_list.append(None)\n",
        "\n",
        "        except Exception as e:\n",
        "            print(f\"An error occurred: {e}\")\n",
        "            gdp_list.append(None)\n",
        "            inflation_list.append(None)\n",
        "            unemployment_list.append(None)\n",
        "            expectancy_list.append(None)\n",
        "\n",
        "    df[\"gdp\"] = gdp_list\n",
        "    df[\"inflation\"] = inflation_list\n",
        "    df[\"unemployment\"] = unemployment_list\n",
        "    df[\"life_expectancy\"] = expectancy_list\n",
        "\n",
        "    return df\n",
        "sanctions_fl_filtered = populate_dataframe_with_economic_data(sanctions_fl_filtered, wb_dict)\n"
      ],
      "metadata": {
        "id": "U9bwtV_H0slY"
      },
      "id": "U9bwtV_H0slY",
      "execution_count": null,
      "outputs": []
    },
    {
      "cell_type": "code",
      "source": [
        "sanctions_fl_filtered.rename(columns={\"gdp\":\"endyear-gdp\",\n",
        "                                      \"inflation\":\"endyear-inflation\",\n",
        "                                      \"unemployment\":\"endyear-unemployment\",\n",
        "                                      \"life-expectancy\":\"endyear-life-expectancy\"},inplace=True)"
      ],
      "metadata": {
        "id": "Rtdkvi7XzivO"
      },
      "id": "Rtdkvi7XzivO",
      "execution_count": 107,
      "outputs": []
    },
    {
      "cell_type": "code",
      "source": [
        "sanctions_fl_filtered"
      ],
      "metadata": {
        "id": "VCuSuqLNdrK8"
      },
      "id": "VCuSuqLNdrK8",
      "execution_count": null,
      "outputs": []
    },
    {
      "cell_type": "markdown",
      "source": [
        "# Models"
      ],
      "metadata": {
        "id": "R_dMMIQxZ2QK"
      },
      "id": "R_dMMIQxZ2QK"
    },
    {
      "cell_type": "markdown",
      "source": [
        "### Linear Regression"
      ],
      "metadata": {
        "id": "5_osIE5cBmCx"
      },
      "id": "5_osIE5cBmCx"
    },
    {
      "cell_type": "markdown",
      "source": [
        "### Gauss Markov Violations"
      ],
      "metadata": {
        "id": "3FKK_miqtVEE"
      },
      "id": "3FKK_miqtVEE"
    },
    {
      "cell_type": "markdown",
      "source": [
        "#### **1. Linearity in its parameters:** The assumption of linearity in the Gauss-Markov theorem states that the relationship between the independent and dependent variables should be **linear in the parameters.**"
      ],
      "metadata": {
        "id": "KepfWfE3wCd_"
      },
      "id": "KepfWfE3wCd_"
    },
    {
      "cell_type": "markdown",
      "source": [
        "##### Residuals vs Fitted Plot"
      ],
      "metadata": {
        "id": "0iEM5LIOcDuy"
      },
      "id": "0iEM5LIOcDuy"
    },
    {
      "cell_type": "code",
      "source": [
        "import statsmodels.api as sm\n",
        "import matplotlib.pyplot as plt\n",
        "import seaborn as sns\n",
        "from statsmodels.stats.outliers_influence import variance_inflation_factor\n",
        "import scipy.stats as stats\n",
        "sanctions_fl_filtered.dropna(subset=['Severity', 'endyear-gdp', 'endyear-inflation', 'endyear-unemployment','political-stability-value'],inplace=True)\n",
        "X = sm.add_constant(sanctions_fl_filtered[['Severity', 'endyear-gdp', 'endyear-inflation', 'endyear-unemployment']])\n",
        "y = sanctions_fl_filtered['political-stability-value']\n",
        "model = sm.OLS(y, X).fit()\n",
        "residuals = model.resid"
      ],
      "metadata": {
        "id": "5U-9041ocDuz"
      },
      "execution_count": 109,
      "outputs": [],
      "id": "5U-9041ocDuz"
    },
    {
      "cell_type": "code",
      "source": [
        "y_pred = model.predict(X)\n",
        "sns.residplot(x=y_pred, y=residuals, lowess=True, line_kws={'color': 'red', 'lw': 1})\n",
        "plt.xlabel('Fitted values')\n",
        "plt.ylabel('Residuals')\n",
        "plt.title('Residuals vs Fitted')\n",
        "plt.show()"
      ],
      "metadata": {
        "colab": {
          "base_uri": "https://localhost:8080/",
          "height": 472
        },
        "outputId": "92bd5764-4a65-469a-c5ff-f8e5b9db12bc",
        "id": "ya3XAlHScDuz"
      },
      "execution_count": 110,
      "outputs": [
        {
          "output_type": "display_data",
          "data": {
            "text/plain": [
              "<Figure size 640x480 with 1 Axes>"
            ],
            "image/png": "[encoded data removed]"
          },
          "metadata": {}
        }
      ],
      "id": "ya3XAlHScDuz"
    },
    {
      "cell_type": "markdown",
      "source": [
        "- The relationship between predictors and the response variable are not linear.\n",
        "- Non-Constant Variance (Heteroscedasticity): The \"mountain\" shape could also indicate that the variance of the errors is not constant across levels of the independent variable, which violates the assumption of homoscedasticity but we'll test it with diagnostics."
      ],
      "metadata": {
        "id": "ZAe-rHiwcDuz"
      },
      "id": "ZAe-rHiwcDuz"
    },
    {
      "cell_type": "markdown",
      "source": [
        "##### OLS model"
      ],
      "metadata": {
        "id": "0QZnd0zodmoF"
      },
      "id": "0QZnd0zodmoF"
    },
    {
      "cell_type": "code",
      "source": [
        "import statsmodels.api as sm\n",
        "import pandas as pd\n",
        "y = sanctions_fl_filtered['political-stability-value']\n",
        "X = sanctions_fl_filtered[['Severity', 'endyear-gdp', 'endyear-inflation', 'endyear-unemployment']]\n",
        "X = sm.add_constant(X)\n",
        "model = sm.OLS(y, X).fit()\n",
        "print(model.summary().as_latex())\n"
      ],
      "metadata": {
        "id": "y2ZzgC31bfDA"
      },
      "id": "y2ZzgC31bfDA",
      "execution_count": null,
      "outputs": []
    },
    {
      "cell_type": "code",
      "source": [
        "from sklearn.linear_model import LinearRegression\n",
        "import numpy as np\n",
        "y = sanctions_fl_filtered['political-stability-value'].dropna()\n",
        "filtered_data = sanctions_fl_filtered[['political-stability-value', 'Severity', 'endyear-gdp', 'endyear-inflation', 'endyear-unemployment']].dropna()\n",
        "\n",
        "y = filtered_data['political-stability-value']\n",
        "X = filtered_data[['Severity', 'endyear-gdp', 'endyear-inflation', 'endyear-unemployment']]\n",
        "model = LinearRegression(fit_intercept=True)  # fit_intercept=True adds the constant (\n",
        "model.fit(X, y)\n",
        "intercept = model.intercept_\n",
        "coef = model.coef_\n",
        "r_squared = model.score(X, y)\n",
        "\n",
        "print(f\"Intercept: {str(intercept)}\")\n",
        "print(f\"Coefficients: {str(coef)}\")\n",
        "print(f\"R squared: {r_squared}\")\n"
      ],
      "metadata": {
        "colab": {
          "base_uri": "https://localhost:8080/"
        },
        "id": "t20TM7S12TpI",
        "outputId": "a5bee76a-baa7-4928-816c-89d7cfa3ed71"
      },
      "id": "t20TM7S12TpI",
      "execution_count": 112,
      "outputs": [
        {
          "output_type": "stream",
          "name": "stdout",
          "text": [
            "Intercept: -0.20826935549085324\n",
            "Coefficients: [-2.28663247e-01  2.38868764e-05 -2.74666605e-02  9.40282502e-03]\n",
            "R squared: 0.37447062387082586\n"
          ]
        }
      ]
    },
    {
      "cell_type": "markdown",
      "source": [
        "#### **2. Multicollinearity**: Multicollinearity refers to the situation where two or more independent variables in a multiple regression model are highly correlated."
      ],
      "metadata": {
        "id": "bRjYtEY4zDfz"
      },
      "id": "bRjYtEY4zDfz"
    },
    {
      "cell_type": "code",
      "source": [
        "#VIF for each variable\n",
        "vif_data = pd.DataFrame()\n",
        "vif_data['feature'] = X.columns\n",
        "vif_data['VIF'] = [variance_inflation_factor(X.values, i) for i in range(len(X.columns))]\n",
        "print(vif_data)\n"
      ],
      "metadata": {
        "colab": {
          "base_uri": "https://localhost:8080/"
        },
        "outputId": "3b362005-2a94-4a5a-804a-0b4d97339e4a",
        "id": "iZIZ9oFUzDf1"
      },
      "execution_count": 113,
      "outputs": [
        {
          "output_type": "stream",
          "name": "stdout",
          "text": [
            "                feature       VIF\n",
            "0              Severity  1.039786\n",
            "1           endyear-gdp  1.410944\n",
            "2     endyear-inflation  1.339513\n",
            "3  endyear-unemployment  1.816971\n"
          ]
        }
      ],
      "id": "iZIZ9oFUzDf1"
    },
    {
      "cell_type": "markdown",
      "source": [
        "**Severity:** The VIF is 1.02, which is very close to 1. This suggests that this predictor is not correlated with other variables.\n",
        "\n",
        "**endyear-gdp:** The VIF is 1.14, suggesting low multicollinearity.\n",
        "\n",
        "**endyear-inflation:** The VIF is 1.14, suggesting low multicollinearity.\n",
        "\n",
        "**endyear-unemployment:** The VIF is 1.01, indicating very low multicollinearity."
      ],
      "metadata": {
        "id": "rf8gq7-NzDf0"
      },
      "id": "rf8gq7-NzDf0"
    },
    {
      "cell_type": "markdown",
      "source": [
        "##### **PCA (Principal Component Analysis) for Multicollinearity**"
      ],
      "metadata": {
        "id": "9DiPYFBf0N5A"
      },
      "id": "9DiPYFBf0N5A"
    },
    {
      "cell_type": "code",
      "source": [
        "from sklearn.decomposition import PCA\n",
        "from sklearn.preprocessing import StandardScaler"
      ],
      "metadata": {
        "id": "X6Ytreeb0SRc"
      },
      "id": "X6Ytreeb0SRc",
      "execution_count": 114,
      "outputs": []
    },
    {
      "cell_type": "code",
      "source": [
        "np.random.seed(0)\n",
        "n = 100"
      ],
      "metadata": {
        "id": "Vmz4oxPZ0SNu"
      },
      "id": "Vmz4oxPZ0SNu",
      "execution_count": 115,
      "outputs": []
    },
    {
      "cell_type": "code",
      "source": [
        "filtered_data = sanctions_fl_filtered[['political-stability-value', 'Severity', 'endyear-gdp', 'endyear-inflation', 'endyear-unemployment']].dropna()\n",
        "y = filtered_data['political-stability-value']\n",
        "\n",
        "X = filtered_data[['Severity', 'endyear-gdp', 'endyear-inflation', 'endyear-unemployment']]\n",
        "scaler = StandardScaler()\n",
        "X_scaled = scaler.fit_transform(X)\n",
        "\n",
        "pca = PCA(n_components=4)\n",
        "X_pca = pca.fit_transform(X_scaled)\n",
        "X_pca_df = pd.DataFrame(data=X_pca, columns=[f'PC{i+1}' for i in range(X_pca.shape[1])])\n",
        "explained_variance = pca.explained_variance_ratio_\n",
        "explained_variance, X_pca_df.head()"
      ],
      "metadata": {
        "colab": {
          "base_uri": "https://localhost:8080/"
        },
        "id": "8In-q1S00SKr",
        "outputId": "d4de81e4-62f8-4f82-b765-d5fe8d06ae13"
      },
      "id": "8In-q1S00SKr",
      "execution_count": 116,
      "outputs": [
        {
          "output_type": "execute_result",
          "data": {
            "text/plain": [
              "(array([0.34894375, 0.26714714, 0.21956934, 0.16433977]),\n",
              "         PC1       PC2       PC3       PC4\n",
              " 0 -0.426380  1.754144  0.856781 -0.939018\n",
              " 1 -0.716554 -0.131827 -0.404813  0.367068\n",
              " 2 -2.135215 -0.765701 -0.222685  1.300671\n",
              " 3  0.003916  0.685093 -0.042578 -0.779104\n",
              " 4 -0.572769  0.421787  0.177921  0.026664)"
            ]
          },
          "metadata": {},
          "execution_count": 116
        }
      ]
    },
    {
      "cell_type": "markdown",
      "source": [
        "###### **OLS model with PCA**"
      ],
      "metadata": {
        "id": "v6Y0UtBr04a3"
      },
      "id": "v6Y0UtBr04a3"
    },
    {
      "cell_type": "code",
      "source": [
        "from sklearn.linear_model import LinearRegression\n",
        "model_pca = LinearRegression(fit_intercept=True)\n",
        "model_pca.fit(X_pca, y)\n",
        "\n",
        "intercept_pca = model_pca.intercept_\n",
        "coef_pca = model_pca.coef_\n",
        "r_squared_pca = model_pca.score(X_pca, y)\n",
        "intercept_pca, coef_pca, r_squared_pca"
      ],
      "metadata": {
        "colab": {
          "base_uri": "https://localhost:8080/"
        },
        "id": "F7WvjN5v0SHk",
        "outputId": "bc5f8e1e-65a8-4199-e65b-6a230bc0d0b6"
      },
      "id": "F7WvjN5v0SHk",
      "execution_count": 117,
      "outputs": [
        {
          "output_type": "execute_result",
          "data": {
            "text/plain": [
              "(-0.011313332278676392,\n",
              " array([-0.466036  ,  0.00350852, -0.0286768 ,  0.0790817 ]),\n",
              " 0.37447062387082575)"
            ]
          },
          "metadata": {},
          "execution_count": 117
        }
      ]
    },
    {
      "cell_type": "markdown",
      "source": [
        "The R squared value remains pretty much the same compared to the previous model."
      ],
      "metadata": {
        "id": "qK16_d6o1IW6"
      },
      "id": "qK16_d6o1IW6"
    },
    {
      "cell_type": "markdown",
      "source": [
        "#### **3. Heteroskedasticity**: Examine a plot of the residuals and the values that were predicted. No \"funnel\" form should be present in the spread. In a regression model, heteroskedasticity is the existence of error terms with uneven variances at various levels of the independent variable(s). In other words, not all levels of the independent variables have the same amount of residual variability. Contrary to homoskedasticity, which maintains the error variances across levels of the independent variables, this is not the case."
      ],
      "metadata": {
        "id": "gGO_xH3J17Nk"
      },
      "id": "gGO_xH3J17Nk"
    },
    {
      "cell_type": "markdown",
      "source": [
        "### Model with PCA"
      ],
      "metadata": {
        "id": "ElK_mGDBeJ8m"
      },
      "id": "ElK_mGDBeJ8m"
    },
    {
      "cell_type": "code",
      "source": [
        "pip install statsmodels"
      ],
      "metadata": {
        "id": "IPuUVi0N3YCQ"
      },
      "id": "IPuUVi0N3YCQ",
      "execution_count": null,
      "outputs": []
    },
    {
      "cell_type": "code",
      "source": [
        "import statsmodels.api as sm\n",
        "from statsmodels.compat import lzip\n",
        "from statsmodels.stats.diagnostic import het_breuschpagan, het_white, het_goldfeldquandt\n",
        "from scipy.stats import shapiro\n",
        "\n",
        "\n",
        "X_with_const = sm.add_constant(X_pca)\n",
        "model = sm.OLS(y, X_with_const).fit()\n",
        "print(model.summary())\n",
        "\n",
        "# Breusch-Pagan test\n",
        "bp_test = het_breuschpagan(model.resid, model.model.exog)\n",
        "labels = ['Lagrange multiplier statistic', 'p-value', 'f-value', 'f p-value']\n",
        "print(\"\\nBreusch-Pagan test:\")\n",
        "print(lzip(labels, bp_test))\n",
        "\n",
        "# White test\n",
        "white_test = het_white(model.resid,  model.model.exog)\n",
        "labels = ['Lagrange multiplier statistic', 'p-value', 'f-value', 'f p-value']\n",
        "print(\"\\nWhite test:\")\n",
        "print(lzip(labels, white_test))\n",
        "\n",
        "# Goldfeld-Quandt test\n",
        "gq_test = het_goldfeldquandt(model.resid, model.model.exog)\n",
        "labels = ['F statistic', 'p-value']\n",
        "print(\"\\nGoldfeld-Quandt test:\")\n",
        "print(lzip(labels, gq_test))\n",
        "\n",
        "# Shapiro-Wilk test\n",
        "shapiro_test = shapiro(model.resid)\n",
        "print(\"\\nShapiro-Wilk test:\")\n",
        "print(f\"Statistic: {shapiro_test[0]}, p-value: {shapiro_test[1]}\")\n"
      ],
      "metadata": {
        "colab": {
          "base_uri": "https://localhost:8080/"
        },
        "id": "mIdGEASX3btW",
        "outputId": "dc53fee3-5cdc-4b4c-d5ca-f2fbdb1ddafa"
      },
      "id": "mIdGEASX3btW",
      "execution_count": 119,
      "outputs": [
        {
          "output_type": "stream",
          "name": "stdout",
          "text": [
            "                                OLS Regression Results                               \n",
            "=====================================================================================\n",
            "Dep. Variable:     political-stability-value   R-squared:                       0.374\n",
            "Model:                                   OLS   Adj. R-squared:                  0.357\n",
            "Method:                        Least Squares   F-statistic:                     21.85\n",
            "Date:                       Thu, 31 Aug 2023   Prob (F-statistic):           3.79e-14\n",
            "Time:                               17:33:52   Log-Likelihood:                -164.08\n",
            "No. Observations:                        151   AIC:                             338.2\n",
            "Df Residuals:                            146   BIC:                             353.3\n",
            "Df Model:                                  4                                         \n",
            "Covariance Type:                   nonrobust                                         \n",
            "==============================================================================\n",
            "                 coef    std err          t      P>|t|      [0.025      0.975]\n",
            "------------------------------------------------------------------------------\n",
            "const         -0.0113      0.059     -0.191      0.849      -0.129       0.106\n",
            "x1            -0.4660      0.050     -9.275      0.000      -0.565      -0.367\n",
            "x2             0.0035      0.057      0.061      0.951      -0.110       0.117\n",
            "x3            -0.0287      0.063     -0.453      0.651      -0.154       0.097\n",
            "x4             0.0791      0.073      1.080      0.282      -0.066       0.224\n",
            "==============================================================================\n",
            "Omnibus:                       13.839   Durbin-Watson:                   1.711\n",
            "Prob(Omnibus):                  0.001   Jarque-Bera (JB):               15.065\n",
            "Skew:                          -0.763   Prob(JB):                     0.000535\n",
            "Kurtosis:                       3.254   Cond. No.                         1.46\n",
            "==============================================================================\n",
            "\n",
            "Notes:\n",
            "[1] Standard Errors assume that the covariance matrix of the errors is correctly specified.\n",
            "\n",
            "Breusch-Pagan test:\n",
            "[('Lagrange multiplier statistic', 1.112001322630244), ('p-value', 0.8923634175922102), ('f-value', 0.2707891801488956), ('f p-value', 0.8964049591360376)]\n",
            "\n",
            "White test:\n",
            "[('Lagrange multiplier statistic', 11.245737199842216), ('p-value', 0.6666325838355478), ('f-value', 0.7816885298393585), ('f p-value', 0.6874006031563334)]\n",
            "\n",
            "Goldfeld-Quandt test:\n",
            "[('F statistic', 0.8492623289869161), ('p-value', 0.7525117093187994)]\n",
            "\n",
            "Shapiro-Wilk test:\n",
            "Statistic: 0.953653872013092, p-value: 6.296057108556852e-05\n"
          ]
        }
      ]
    },
    {
      "cell_type": "code",
      "source": [
        "import statsmodels.api as sm\n",
        "from statsmodels.compat import lzip\n",
        "from statsmodels.stats.diagnostic import het_breuschpagan, het_white, het_goldfeldquandt\n",
        "from scipy.stats import shapiro\n",
        "\n",
        "X_with_const = sm.add_constant(X_pca)\n",
        "model = sm.OLS(y, X_with_const).fit()\n",
        "\n",
        "latex_summary = model.summary().as_latex()\n",
        "print(\"\\nOLS Summary in LaTeX:\")\n",
        "print(latex_summary)"
      ],
      "metadata": {
        "id": "AYZDgV4NiP0R"
      },
      "id": "AYZDgV4NiP0R",
      "execution_count": null,
      "outputs": []
    },
    {
      "cell_type": "markdown",
      "source": [
        "#### **4.  Normality**: In the context of the Gauss-Markov assumptions, normality refers to the assumption that the error terms in a regression model are normally distributed, particularly important for making statistical inferences from the model."
      ],
      "metadata": {
        "id": "8fcoF7fT88Xi"
      },
      "id": "8fcoF7fT88Xi"
    },
    {
      "cell_type": "code",
      "source": [
        "import seaborn as sns\n",
        "import matplotlib.pyplot as plt\n",
        "\n",
        "variables_to_check = ['Severity', 'endyear-gdp', 'endyear-inflation', 'endyear-unemployment', 'political-stability-value']\n",
        "\n",
        "for var in variables_to_check:\n",
        "    sns.histplot(filtered_data[var], kde=True)\n",
        "    plt.title(f'Distribution of {var}')\n",
        "\n",
        "    plt.show()\n"
      ],
      "metadata": {
        "colab": {
          "base_uri": "https://localhost:8080/",
          "height": 1000
        },
        "id": "a5o-j2Us4qW7",
        "outputId": "690a3cac-d6f4-45ed-b9e7-f77922fa0721"
      },
      "id": "a5o-j2Us4qW7",
      "execution_count": 121,
      "outputs": [
        {
          "output_type": "display_data",
          "data": {
            "text/plain": [
              "<Figure size 640x480 with 1 Axes>"
            ],
            "image/png": "[encoded data removed]"
          },
          "metadata": {}
        },
        {
          "output_type": "display_data",
          "data": {
            "text/plain": [
              "<Figure size 640x480 with 1 Axes>"
            ],
            "image/png": "[encoded data removed]"
          },
          "metadata": {}
        },
        {
          "output_type": "display_data",
          "data": {
            "text/plain": [
              "<Figure size 640x480 with 1 Axes>"
            ],
            "image/png": "[encoded data removed]"
          },
          "metadata": {}
        },
        {
          "output_type": "display_data",
          "data": {
            "text/plain": [
              "<Figure size 640x480 with 1 Axes>"
            ],
            "image/png": "[encoded data removed]"
          },
          "metadata": {}
        },
        {
          "output_type": "display_data",
          "data": {
            "text/plain": [
              "<Figure size 640x480 with 1 Axes>"
            ],
            "image/png": "[encoded data removed]"
          },
          "metadata": {}
        }
      ]
    },
    {
      "cell_type": "markdown",
      "source": [
        "##### Box-Cox Transformation"
      ],
      "metadata": {
        "id": "3gOww3MCJ0ee"
      },
      "id": "3gOww3MCJ0ee"
    },
    {
      "cell_type": "code",
      "source": [
        "from scipy.stats import boxcox"
      ],
      "metadata": {
        "id": "wRn7gKmGySGB"
      },
      "id": "wRn7gKmGySGB",
      "execution_count": 122,
      "outputs": []
    },
    {
      "cell_type": "code",
      "source": [
        "constant_to_add = 1 - filtered_data['political-stability-value'].min()\n",
        "filtered_data['political-stability-value_shifted'] = filtered_data['political-stability-value'] + constant_to_add\n",
        "transformed_response, lambda_value = boxcox(filtered_data['political-stability-value_shifted'])\n",
        "filtered_data['political-stability-value_boxcox'] = transformed_response\n",
        "sns.histplot(filtered_data['political-stability-value_boxcox'], kde=True)\n",
        "plt.title('Distribution of Box-Cox Transformed political-stability-value')\n",
        "plt.show()\n",
        "print(f\"The optimal lambda value for the Box-Cox transformation is {lambda_value}\")\n"
      ],
      "metadata": {
        "colab": {
          "base_uri": "https://localhost:8080/",
          "height": 489
        },
        "id": "6AcujGTtI_2T",
        "outputId": "9b85fdf0-df97-46ae-d02a-37b1d2a15bf8"
      },
      "id": "6AcujGTtI_2T",
      "execution_count": 123,
      "outputs": [
        {
          "output_type": "display_data",
          "data": {
            "text/plain": [
              "<Figure size 640x480 with 1 Axes>"
            ],
            "image/png": "[encoded data removed]"
          },
          "metadata": {}
        },
        {
          "output_type": "stream",
          "name": "stdout",
          "text": [
            "The optimal lambda value for the Box-Cox transformation is 1.9009749923183055\n"
          ]
        }
      ]
    },
    {
      "cell_type": "markdown",
      "source": [
        "##### Log transformation of the variables"
      ],
      "metadata": {
        "id": "OL3Bmr549IGL"
      },
      "id": "OL3Bmr549IGL"
    },
    {
      "cell_type": "code",
      "source": [
        "filtered_data.dropna(inplace=True)\n",
        "\n",
        "constant_to_add = 1\n",
        "cols_to_transform = ['Severity', 'endyear-gdp', 'endyear-inflation', 'endyear-unemployment']\n",
        "filtered_data[cols_to_transform] = filtered_data[cols_to_transform].apply(lambda x: x + constant_to_add)\n",
        "filtered_data_log = np.log(filtered_data[cols_to_transform])\n",
        "filtered_data_log.columns = [f\"{col}_log\" for col in cols_to_transform]\n",
        "filtered_data = pd.concat([filtered_data, filtered_data_log], axis=1)\n",
        "print(filtered_data.isnull().sum())\n",
        "print((filtered_data == 0).sum())\n",
        "print((filtered_data < 0).sum())\n"
      ],
      "metadata": {
        "id": "PEFn2eYuE8BP"
      },
      "id": "PEFn2eYuE8BP",
      "execution_count": null,
      "outputs": []
    },
    {
      "cell_type": "code",
      "source": [
        "filtered_data.dropna()"
      ],
      "metadata": {
        "id": "aVrBtOP4GxFd"
      },
      "id": "aVrBtOP4GxFd",
      "execution_count": null,
      "outputs": []
    },
    {
      "cell_type": "code",
      "source": [
        "filtered_data.dropna(inplace=True)"
      ],
      "metadata": {
        "id": "6dbwrpZQJbK2"
      },
      "id": "6dbwrpZQJbK2",
      "execution_count": 126,
      "outputs": []
    },
    {
      "cell_type": "markdown",
      "source": [
        "OLS with Box-Cox and Log Transformation"
      ],
      "metadata": {
        "id": "LbrIg2I3J_tI"
      },
      "id": "LbrIg2I3J_tI"
    },
    {
      "cell_type": "code",
      "source": [
        "y = filtered_data['political-stability-value_shifted']\n",
        "X_with_const = sm.add_constant(filtered_data[[\"Severity_log\",\"endyear-gdp_log\",\"endyear-inflation_log\",\"endyear-unemployment_log\"]])\n",
        "model = sm.OLS(y, X_with_const).fit()\n",
        "latex_summary = model.summary().as_latex()\n",
        "print(latex_summary)\n",
        "# or to save it to a .tex file:\n",
        "with open(\"model_summary.tex\", \"w\") as f:\n",
        "    f.write(latex_summary)\n",
        "\n"
      ],
      "metadata": {
        "id": "nO505XubGoTT"
      },
      "id": "nO505XubGoTT",
      "execution_count": null,
      "outputs": []
    },
    {
      "cell_type": "markdown",
      "source": [
        "## Generalized Least Squares"
      ],
      "metadata": {
        "id": "-OaBF8sAYESj"
      },
      "id": "-OaBF8sAYESj"
    },
    {
      "cell_type": "code",
      "source": [
        "pip install scikit-learn"
      ],
      "metadata": {
        "id": "TI7ErXWAA2Nx"
      },
      "id": "TI7ErXWAA2Nx",
      "execution_count": null,
      "outputs": []
    },
    {
      "cell_type": "code",
      "source": [
        "import statsmodels.api as sm\n",
        "y = filtered_data['political-stability-value_shifted']\n",
        "X = filtered_data[[\"Severity_log\",\"endyear-gdp_log\",\"endyear-inflation_log\",\"endyear-unemployment_log\"]]\n",
        "X_with_const = sm.add_constant(X)\n",
        "glm_gamma = sm.GLM(y, X_with_const, family=sm.families.Gamma(link=sm.families.links.Log()))\n",
        "glm_results = glm_gamma.fit()\n",
        "print(glm_results.summary())\n"
      ],
      "metadata": {
        "colab": {
          "base_uri": "https://localhost:8080/"
        },
        "id": "0dWHy7R3YLI-",
        "outputId": "c0ec8046-2353-4881-dc0b-1213be92f8aa"
      },
      "execution_count": 138,
      "outputs": [
        {
          "output_type": "stream",
          "name": "stdout",
          "text": [
            "                         Generalized Linear Model Regression Results                         \n",
            "=============================================================================================\n",
            "Dep. Variable:     political-stability-value_shifted   No. Observations:                  148\n",
            "Model:                                           GLM   Df Residuals:                      143\n",
            "Model Family:                                  Gamma   Df Model:                            4\n",
            "Link Function:                                   Log   Scale:                        0.048773\n",
            "Method:                                         IRLS   Log-Likelihood:                -169.54\n",
            "Date:                               Thu, 31 Aug 2023   Deviance:                       8.1540\n",
            "Time:                                       18:12:35   Pearson chi2:                     6.97\n",
            "No. Iterations:                                   11   Pseudo R-squ. (CS):             0.5461\n",
            "Covariance Type:                           nonrobust                                         \n",
            "============================================================================================\n",
            "                               coef    std err          z      P>|z|      [0.025      0.975]\n",
            "--------------------------------------------------------------------------------------------\n",
            "const                        0.4464      0.123      3.623      0.000       0.205       0.688\n",
            "Severity_log                -0.0937      0.032     -2.925      0.003      -0.156      -0.031\n",
            "endyear-gdp_log              0.0992      0.013      7.456      0.000       0.073       0.125\n",
            "endyear-inflation_log       -0.0449      0.022     -2.057      0.040      -0.088      -0.002\n",
            "endyear-unemployment_log    -0.0135      0.035     -0.385      0.700      -0.082       0.055\n",
            "============================================================================================\n"
          ]
        }
      ],
      "id": "0dWHy7R3YLI-"
    },
    {
      "cell_type": "code",
      "source": [
        "print(glm_results.summary().as_latex())"
      ],
      "metadata": {
        "id": "ZV-qvYdyy55L"
      },
      "id": "ZV-qvYdyy55L",
      "execution_count": null,
      "outputs": []
    },
    {
      "cell_type": "markdown",
      "source": [
        "**Review of the model:**\n",
        "\n",
        "**Model Performance:** Our dependent variable, \"political-stability-value_shifted,\" has a pseudo R-squared of 0.5461, which indicates that the model still adequately explains roughly 54% of the variation.\n",
        "\n",
        "**Important variables**\n",
        "\n",
        "With a p-value of 0.003, *severity_log* is statistically significant. The negative coefficient suggests that a decline in political stability is correlated with an increase in severity.\n",
        "\n",
        "With a p-value of less than 0.0001, *endyear-gdp_log* is still significant. The favorable coefficient shows that GDP continues to be essential in promoting political stability.\n",
        "\n",
        "With a p-value of 0.040, *endyear-inflation_log* is also statistically significant, indicating that, while less strongly than the other factors, higher inflation tends to impair political stability.\n",
        "\n",
        "**Variables to Take Again:**\n",
        "\n",
        "With a p-value of 0.700, *endyear-unemployment_log* doesn't appear to be statistically significant. Its inclusion in the model is currently debatable.\n",
        "\n",
        "Since our predictors do longer adequately account for the baseline level of political stability, the constant term is now substantial and positive.\n",
        "Political stability decreases by around 0.094 units for every unit rise in the log of severity, holding other variables constant.\n",
        "\n",
        "**What Comes Next?**\n",
        "\n",
        "Given the poor performance of endyear-unemployment_log, it could be worthwhile to remove it or swap it out for another predictor in further rounds.\n",
        "Measures of fit-quality:\n",
        "\n",
        "Additionally given are Our Deviance and Pearson chi2, however these are additional technical details that can be explored by individuals who are engrossed in the details.\n",
        "\n",
        "In conclusion, despite the model's reduction, we still have a robust set of predictors that can accurately capture political stability. The model might then be improved, and possibly interaction terms or additional predictors could be included to increase the Pseudo R-squared a little bit."
      ],
      "metadata": {
        "id": "iWgxDGrUxr8s"
      },
      "id": "iWgxDGrUxr8s"
    },
    {
      "cell_type": "code",
      "source": [],
      "metadata": {
        "id": "dp1OVfpO0U8Z"
      },
      "id": "dp1OVfpO0U8Z",
      "execution_count": null,
      "outputs": []
    }
  ],
  "metadata": {
    "kernelspec": {
      "display_name": "Python 3",
      "name": "python3"
    },
    "language_info": {
      "codemirror_mode": {
        "name": "ipython",
        "version": 3
      },
      "file_extension": ".py",
      "mimetype": "text/x-python",
      "name": "python",
      "nbconvert_exporter": "python",
      "pygments_lexer": "ipython3",
      "version": "3.9.13"
    },
    "colab": {
      "provenance": [],
      "gpuType": "T4",
      "toc_visible": true
    },
    "accelerator": "GPU"
  },
  "nbformat": 4,
  "nbformat_minor": 5
}